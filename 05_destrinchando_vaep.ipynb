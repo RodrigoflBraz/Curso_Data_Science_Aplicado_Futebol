{
 "cells": [
  {
   "attachments": {},
   "cell_type": "markdown",
   "metadata": {
    "collapsed": false
   },
   "source": [
    "# [CDAF] Atividade 5"
   ]
  },
  {
   "attachments": {},
   "cell_type": "markdown",
   "metadata": {
    "collapsed": false
   },
   "source": [
    "## Nome\n",
    "Nome: RODRIGO FELIPE LIMA BRAZ\n"
   ]
  },
  {
   "attachments": {},
   "cell_type": "markdown",
   "metadata": {
    "collapsed": false
   },
   "source": [
    "## Referências\n",
    "- [1] https://tomdecroos.github.io/reports/kdd19_tomd.pdf\n",
    "- [2] https://socceraction.readthedocs.io/en/latest/api/vaep.html\n",
    "- [3] https://socceraction.readthedocs.io/en/latest/documentation/valuing_actions/vaep.html\n",
    "- [4] https://github.com/ML-KULeuven/socceraction/tree/master/public-notebooks"
   ]
  },
  {
   "attachments": {},
   "cell_type": "markdown",
   "metadata": {
    "collapsed": false
   },
   "source": [
    "## Introdução\n",
    "- Nessa atividade, temos implementada a pipeline inteira do VAEP [1] para os dados do Wyscout das Top 5 ligas.\n",
    "- [2] é a documentação das funções do VAEP na API do socceraction.\n",
    "- [3] apresenta uma explicação do framework com uma mistura de intuição, matemática e código.\n",
    "- [4] são notebooks públicos que implementam o VAEP para outro conjunto de dados."
   ]
  },
  {
   "attachments": {},
   "cell_type": "markdown",
   "metadata": {
    "collapsed": false
   },
   "source": [
    "## Instruções\n",
    "- Para cada header do notebook abaixo, vocês devem explicar o que foi feito e à qual seção/subseção/equação do paper \"Actions Speak Louder than Goals: Valuing Actions by Estimating Probabilities\" ela corresponde. Justifique suas respostas.\n",
    "- Além disso, após algumas partes do código haverão perguntas que vocês devem responder, possivelmente explorando minimamente o que já está pronto.\n",
    "- Por fim, vocês devem montar um diagrama do fluxo de funções/tarefas de toda a pipeline do VAEP abaixo. Esse diagrama deve ser enviado como arquivo na submissão do Moodle, para além deste notebook."
   ]
  },
  {
   "attachments": {},
   "cell_type": "markdown",
   "metadata": {
    "collapsed": false
   },
   "source": [
    "### Carregando os dados"
   ]
  },
  {
   "cell_type": "code",
   "execution_count": 1,
   "metadata": {
    "collapsed": false
   },
   "outputs": [],
   "source": [
    "import numpy as np\n",
    "import pandas as pd"
   ]
  },
  {
   "cell_type": "code",
   "execution_count": 2,
   "metadata": {
    "collapsed": false
   },
   "outputs": [],
   "source": [
    "def load_matches(path):\n",
    "    matches = pd.read_json(path_or_buf=path)\n",
    "    # as informações dos times de cada partida estão em um dicionário dentro da coluna 'teamsData', então vamos separar essas informações\n",
    "    team_matches = []\n",
    "    for i in range(len(matches)):\n",
    "        match = pd.DataFrame(matches.loc[i, 'teamsData']).T\n",
    "        match['matchId'] = matches.loc[i, 'wyId']\n",
    "        team_matches.append(match)\n",
    "    team_matches = pd.concat(team_matches).reset_index(drop=True)\n",
    "\n",
    "    return team_matches"
   ]
  },
  {
   "cell_type": "code",
   "execution_count": 3,
   "metadata": {
    "collapsed": false
   },
   "outputs": [],
   "source": [
    "def load_players(path):\n",
    "    players = pd.read_json(path_or_buf=path)\n",
    "    players['player_name'] = players['firstName'] + ' ' + players['lastName']\n",
    "    players = players[['wyId', 'player_name']].rename(columns={'wyId': 'player_id'})\n",
    "\n",
    "    return players"
   ]
  },
  {
   "cell_type": "code",
   "execution_count": 4,
   "metadata": {
    "collapsed": false
   },
   "outputs": [],
   "source": [
    "def load_events(path):\n",
    "    events = pd.read_json(path_or_buf=path)\n",
    "    # pré processamento em colunas da tabela de eventos para facilitar a conversão p/ SPADL\n",
    "    events = events.rename(columns={\n",
    "        'id': 'event_id',\n",
    "        'eventId': 'type_id',\n",
    "        'subEventId': 'subtype_id',\n",
    "        'teamId': 'team_id',\n",
    "        'playerId': 'player_id',\n",
    "        'matchId': 'game_id'\n",
    "    })\n",
    "    events['milliseconds'] = events['eventSec'] * 1000\n",
    "    events['period_id'] = events['matchPeriod'].replace({'1H': 1, '2H': 2})\n",
    "\n",
    "    return events"
   ]
  },
  {
   "cell_type": "code",
   "execution_count": 5,
   "metadata": {
    "collapsed": false
   },
   "outputs": [],
   "source": [
    "def load_minutes_played_per_game(path):\n",
    "    minutes = pd.read_json(path_or_buf=path)\n",
    "    minutes = minutes.rename(columns={\n",
    "        'playerId': 'player_id',\n",
    "        'matchId': 'game_id',\n",
    "        'teamId': 'team_id',\n",
    "        'minutesPlayed': 'minutes_played'\n",
    "    })\n",
    "    minutes = minutes.drop(['shortName', 'teamName', 'red_card'], axis=1)\n",
    "\n",
    "    return minutes"
   ]
  },
  {
   "cell_type": "code",
   "execution_count": 6,
   "metadata": {
    "collapsed": false
   },
   "outputs": [],
   "source": [
    "leagues = ['England', 'Spain']\n",
    "events = {}\n",
    "matches = {}\n",
    "minutes = {}\n",
    "for league in leagues:\n",
    "    path = r'C:\\Users\\rodrigo.braz\\Rodrigo_Si\\pratices\\CDAF\\ATV5\\matches_{}.json'.format(league)\n",
    "    matches[league] = load_matches(path)\n",
    "    path = r'C:\\Users\\rodrigo.braz\\Rodrigo_Si\\pratices\\CDAF\\ATV5\\events_{}.json'.format(league)\n",
    "    events[league] = load_events(path)\n",
    "    path = r'C:\\Users\\rodrigo.braz\\Rodrigo_Si\\pratices\\CDAF\\ATV5\\minutes_played_per_game_{}.json'.format(league)\n",
    "    minutes[league] = load_minutes_played_per_game(path)"
   ]
  },
  {
   "cell_type": "code",
   "execution_count": 7,
   "metadata": {
    "collapsed": false
   },
   "outputs": [],
   "source": [
    "path = r\"C:\\Users\\rodrigo.braz\\Rodrigo_Si\\pratices\\CDAF\\ATV5\\players.json\"\n",
    "players = load_players(path)\n",
    "players['player_name'] = players['player_name'].str.decode('unicode-escape')"
   ]
  },
  {
   "attachments": {},
   "cell_type": "markdown",
   "metadata": {
    "collapsed": false
   },
   "source": [
    "### SPADL"
   ]
  },
  {
   "cell_type": "code",
   "execution_count": 8,
   "metadata": {
    "collapsed": false
   },
   "outputs": [],
   "source": [
    "from tqdm import tqdm\n",
    "import socceraction.spadl as spd"
   ]
  },
  {
   "cell_type": "code",
   "execution_count": 9,
   "metadata": {
    "collapsed": false
   },
   "outputs": [],
   "source": [
    "def spadl_transform(events, matches):\n",
    "    spadl = []\n",
    "    game_ids = events.game_id.unique().tolist()\n",
    "    for g in tqdm(game_ids):\n",
    "        match_events = events.loc[events.game_id == g]\n",
    "        match_home_id = matches.loc[(matches.matchId == g) & (matches.side == 'home'), 'teamId'].values[0]\n",
    "        match_actions = spd.wyscout.convert_to_actions(events=match_events, home_team_id=match_home_id)\n",
    "        match_actions = spd.play_left_to_right(actions=match_actions, home_team_id=match_home_id)\n",
    "        match_actions = spd.add_names(match_actions)\n",
    "        spadl.append(match_actions)\n",
    "    spadl = pd.concat(spadl).reset_index(drop=True)\n",
    "\n",
    "    return spadl"
   ]
  },
  {
   "cell_type": "code",
   "execution_count": 10,
   "metadata": {
    "collapsed": false
   },
   "outputs": [
    {
     "name": "stderr",
     "output_type": "stream",
     "text": [
      "100%|██████████| 380/380 [03:16<00:00,  1.94it/s]\n",
      "100%|██████████| 380/380 [03:30<00:00,  1.80it/s]\n"
     ]
    }
   ],
   "source": [
    "spadl = {}\n",
    "for league in leagues:\n",
    "    spadl[league] = spadl_transform(events=events[league], matches=matches[league])"
   ]
  },
  {
   "attachments": {},
   "cell_type": "markdown",
   "metadata": {},
   "source": [
    "Neste header os dados foram carregados e transformados para o padrão spald, para ficar mais fácil fazer as análises e utilização de features.\n"
   ]
  },
  {
   "attachments": {},
   "cell_type": "markdown",
   "metadata": {
    "collapsed": false
   },
   "source": [
    "### Features"
   ]
  },
  {
   "cell_type": "code",
   "execution_count": 11,
   "metadata": {
    "collapsed": false
   },
   "outputs": [],
   "source": [
    "from socceraction.vaep import features as ft"
   ]
  },
  {
   "cell_type": "code",
   "execution_count": 12,
   "metadata": {
    "collapsed": false
   },
   "outputs": [],
   "source": [
    "def features_transform(spadl):\n",
    "    spadl.loc[spadl.result_id.isin([2, 3]), ['result_id']] = 0\n",
    "    spadl.loc[spadl.result_name.isin(['offside', 'owngoal']), ['result_name']] = 'fail'\n",
    "\n",
    "    xfns = [\n",
    "        ft.actiontype_onehot,\n",
    "        ft.bodypart_onehot,\n",
    "        ft.result_onehot,\n",
    "        ft.goalscore,\n",
    "        ft.startlocation,\n",
    "        ft.endlocation,\n",
    "        ft.team,\n",
    "        ft.time,\n",
    "        ft.time_delta\n",
    "    ]\n",
    "\n",
    "    features = []\n",
    "    for game in tqdm(np.unique(spadl.game_id).tolist()):\n",
    "        match_actions = spadl.loc[spadl.game_id == game].reset_index(drop=True)\n",
    "        match_states = ft.gamestates(actions=match_actions)\n",
    "        match_feats = pd.concat([fn(match_states) for fn in xfns], axis=1)\n",
    "        features.append(match_feats)\n",
    "    features = pd.concat(features).reset_index(drop=True)\n",
    "\n",
    "    return features"
   ]
  },
  {
   "attachments": {},
   "cell_type": "markdown",
   "metadata": {},
   "source": [
    "Header que visa escolher as features que serão utilizadas no modelo."
   ]
  },
  {
   "attachments": {},
   "cell_type": "markdown",
   "metadata": {
    "collapsed": false
   },
   "source": [
    "1- O que a primeira e a segunda linhas da função acima fazem? Qual sua hipótese sobre intuito dessas transformações? Como você acha que isso pode impactar o modelo final?"
   ]
  },
  {
   "attachments": {},
   "cell_type": "markdown",
   "metadata": {},
   "source": [
    "A primeira está trocando tudo que for result = 2 ou 3 para 1, para deixar apenas sucesso ou falha no resultado da ação.\n",
    "A segunda está setando ações que estão impedidos, ou gols contra como ações falhas. Acredito que essas transformações deixem o modelo mais determinístico, uma vez que você caracteriza ações apenas como sucesso ou falha."
   ]
  },
  {
   "cell_type": "code",
   "execution_count": 13,
   "metadata": {
    "collapsed": false
   },
   "outputs": [
    {
     "name": "stderr",
     "output_type": "stream",
     "text": [
      "100%|██████████| 380/380 [00:18<00:00, 20.63it/s]\n",
      "100%|██████████| 380/380 [00:17<00:00, 21.44it/s]\n"
     ]
    }
   ],
   "source": [
    "features = {}\n",
    "for league in ['England', 'Spain']:\n",
    "    features[league] = features_transform(spadl[league])"
   ]
  },
  {
   "cell_type": "code",
   "execution_count": 14,
   "metadata": {},
   "outputs": [
    {
     "data": {
      "text/plain": [
       "{'England':         type_pass_a0  type_cross_a0  type_throw_in_a0  \\\n",
       " 0               True          False             False   \n",
       " 1               True          False             False   \n",
       " 2               True          False             False   \n",
       " 3               True          False             False   \n",
       " 4               True          False             False   \n",
       " ...              ...            ...               ...   \n",
       " 482896          True          False             False   \n",
       " 482897         False           True             False   \n",
       " 482898         False          False             False   \n",
       " 482899         False          False             False   \n",
       " 482900         False          False             False   \n",
       " \n",
       "         type_freekick_crossed_a0  type_freekick_short_a0  \\\n",
       " 0                          False                   False   \n",
       " 1                          False                   False   \n",
       " 2                          False                   False   \n",
       " 3                          False                   False   \n",
       " 4                          False                   False   \n",
       " ...                          ...                     ...   \n",
       " 482896                     False                   False   \n",
       " 482897                     False                   False   \n",
       " 482898                     False                   False   \n",
       " 482899                     False                   False   \n",
       " 482900                     False                   False   \n",
       " \n",
       "         type_corner_crossed_a0  type_corner_short_a0  type_take_on_a0  \\\n",
       " 0                        False                 False            False   \n",
       " 1                        False                 False            False   \n",
       " 2                        False                 False            False   \n",
       " 3                        False                 False            False   \n",
       " 4                        False                 False            False   \n",
       " ...                        ...                   ...              ...   \n",
       " 482896                   False                 False            False   \n",
       " 482897                   False                 False            False   \n",
       " 482898                   False                 False            False   \n",
       " 482899                    True                 False            False   \n",
       " 482900                   False                 False            False   \n",
       " \n",
       "         type_foul_a0  type_tackle_a0  ...  time_seconds_a0  \\\n",
       " 0              False           False  ...         2.758649   \n",
       " 1              False           False  ...         4.946850   \n",
       " 2              False           False  ...         6.542188   \n",
       " 3              False           False  ...         8.143395   \n",
       " 4              False           False  ...        10.302366   \n",
       " ...              ...             ...  ...              ...   \n",
       " 482896         False           False  ...      2785.702032   \n",
       " 482897         False           False  ...      2789.232666   \n",
       " 482898         False           False  ...      2790.457942   \n",
       " 482899         False           False  ...      2829.821084   \n",
       " 482900         False           False  ...      2834.127168   \n",
       " \n",
       "         time_seconds_overall_a0  period_id_a1  time_seconds_a1  \\\n",
       " 0                      2.758649             1         2.758649   \n",
       " 1                      4.946850             1         2.758649   \n",
       " 2                      6.542188             1         4.946850   \n",
       " 3                      8.143395             1         6.542188   \n",
       " 4                     10.302366             1         8.143395   \n",
       " ...                         ...           ...              ...   \n",
       " 482896              5485.702032             2      2783.137836   \n",
       " 482897              5489.232666             2      2785.702032   \n",
       " 482898              5490.457942             2      2789.232666   \n",
       " 482899              5529.821084             2      2790.457942   \n",
       " 482900              5534.127168             2      2829.821084   \n",
       " \n",
       "         time_seconds_overall_a1  period_id_a2  time_seconds_a2  \\\n",
       " 0                      2.758649             1         2.758649   \n",
       " 1                      2.758649             1         2.758649   \n",
       " 2                      4.946850             1         2.758649   \n",
       " 3                      6.542188             1         4.946850   \n",
       " 4                      8.143395             1         6.542188   \n",
       " ...                         ...           ...              ...   \n",
       " 482896              5483.137836             2      2780.300522   \n",
       " 482897              5485.702032             2      2783.137836   \n",
       " 482898              5489.232666             2      2785.702032   \n",
       " 482899              5490.457942             2      2789.232666   \n",
       " 482900              5529.821084             2      2790.457942   \n",
       " \n",
       "         time_seconds_overall_a2  time_delta_1  time_delta_2  \n",
       " 0                      2.758649      0.000000      0.000000  \n",
       " 1                      2.758649      2.188201      2.188201  \n",
       " 2                      2.758649      1.595338      3.783539  \n",
       " 3                      4.946850      1.601207      3.196545  \n",
       " 4                      6.542188      2.158971      3.760178  \n",
       " ...                         ...           ...           ...  \n",
       " 482896              5480.300522      2.564196      5.401510  \n",
       " 482897              5483.137836      3.530634      6.094830  \n",
       " 482898              5485.702032      1.225276      4.755910  \n",
       " 482899              5489.232666     39.363142     40.588418  \n",
       " 482900              5490.457942      4.306084     43.669226  \n",
       " \n",
       " [482901 rows x 127 columns],\n",
       " 'Spain':         type_pass_a0  type_cross_a0  type_throw_in_a0  \\\n",
       " 0               True          False             False   \n",
       " 1               True          False             False   \n",
       " 2               True          False             False   \n",
       " 3               True          False             False   \n",
       " 4               True          False             False   \n",
       " ...              ...            ...               ...   \n",
       " 473889          True          False             False   \n",
       " 473890         False          False             False   \n",
       " 473891         False           True             False   \n",
       " 473892          True          False             False   \n",
       " 473893         False          False             False   \n",
       " \n",
       "         type_freekick_crossed_a0  type_freekick_short_a0  \\\n",
       " 0                          False                   False   \n",
       " 1                          False                   False   \n",
       " 2                          False                   False   \n",
       " 3                          False                   False   \n",
       " 4                          False                   False   \n",
       " ...                          ...                     ...   \n",
       " 473889                     False                   False   \n",
       " 473890                     False                   False   \n",
       " 473891                     False                   False   \n",
       " 473892                     False                   False   \n",
       " 473893                     False                   False   \n",
       " \n",
       "         type_corner_crossed_a0  type_corner_short_a0  type_take_on_a0  \\\n",
       " 0                        False                 False            False   \n",
       " 1                        False                 False            False   \n",
       " 2                        False                 False            False   \n",
       " 3                        False                 False            False   \n",
       " 4                        False                 False            False   \n",
       " ...                        ...                   ...              ...   \n",
       " 473889                   False                 False            False   \n",
       " 473890                   False                 False            False   \n",
       " 473891                   False                 False            False   \n",
       " 473892                   False                 False            False   \n",
       " 473893                   False                 False            False   \n",
       " \n",
       "         type_foul_a0  type_tackle_a0  ...  time_seconds_a0  \\\n",
       " 0              False           False  ...         2.994582   \n",
       " 1              False           False  ...         3.137020   \n",
       " 2              False           False  ...         6.709668   \n",
       " 3              False           False  ...         8.805497   \n",
       " 4              False           False  ...        14.047492   \n",
       " ...              ...             ...  ...              ...   \n",
       " 473889         False           False  ...      2939.077491   \n",
       " 473890         False           False  ...      2940.515560   \n",
       " 473891         False           False  ...      2942.098761   \n",
       " 473892         False           False  ...      2943.089232   \n",
       " 473893         False           False  ...      2943.668846   \n",
       " \n",
       "         time_seconds_overall_a0  period_id_a1  time_seconds_a1  \\\n",
       " 0                      2.994582             1         2.994582   \n",
       " 1                      3.137020             1         2.994582   \n",
       " 2                      6.709668             1         3.137020   \n",
       " 3                      8.805497             1         6.709668   \n",
       " 4                     14.047492             1         8.805497   \n",
       " ...                         ...           ...              ...   \n",
       " 473889              5639.077491             2      2932.188168   \n",
       " 473890              5640.515560             2      2939.077491   \n",
       " 473891              5642.098761             2      2940.515560   \n",
       " 473892              5643.089232             2      2942.098761   \n",
       " 473893              5643.668846             2      2943.089232   \n",
       " \n",
       "         time_seconds_overall_a1  period_id_a2  time_seconds_a2  \\\n",
       " 0                      2.994582             1         2.994582   \n",
       " 1                      2.994582             1         2.994582   \n",
       " 2                      3.137020             1         2.994582   \n",
       " 3                      6.709668             1         3.137020   \n",
       " 4                      8.805497             1         6.709668   \n",
       " ...                         ...           ...              ...   \n",
       " 473889              5632.188168             2      2931.782904   \n",
       " 473890              5639.077491             2      2932.188168   \n",
       " 473891              5640.515560             2      2939.077491   \n",
       " 473892              5642.098761             2      2940.515560   \n",
       " 473893              5643.089232             2      2942.098761   \n",
       " \n",
       "         time_seconds_overall_a2  time_delta_1  time_delta_2  \n",
       " 0                      2.994582      0.000000      0.000000  \n",
       " 1                      2.994582      0.142438      0.142438  \n",
       " 2                      2.994582      3.572648      3.715086  \n",
       " 3                      3.137020      2.095829      5.668477  \n",
       " 4                      6.709668      5.241995      7.337824  \n",
       " ...                         ...           ...           ...  \n",
       " 473889              5631.782904      6.889323      7.294587  \n",
       " 473890              5632.188168      1.438069      8.327392  \n",
       " 473891              5639.077491      1.583201      3.021270  \n",
       " 473892              5640.515560      0.990471      2.573672  \n",
       " 473893              5642.098761      0.579614      1.570085  \n",
       " \n",
       " [473894 rows x 127 columns]}"
      ]
     },
     "execution_count": 14,
     "metadata": {},
     "output_type": "execute_result"
    }
   ],
   "source": [
    "features"
   ]
  },
  {
   "attachments": {},
   "cell_type": "markdown",
   "metadata": {
    "collapsed": false
   },
   "source": [
    "### Labels"
   ]
  },
  {
   "cell_type": "code",
   "execution_count": 15,
   "metadata": {
    "collapsed": false
   },
   "outputs": [],
   "source": [
    "import socceraction.vaep.labels as lab"
   ]
  },
  {
   "cell_type": "code",
   "execution_count": 16,
   "metadata": {
    "collapsed": false
   },
   "outputs": [],
   "source": [
    "def labels_transform(spadl):\n",
    "    yfns = [lab.scores, lab.concedes]\n",
    "\n",
    "    labels = []\n",
    "    for game in tqdm(np.unique(spadl.game_id).tolist()):\n",
    "        match_actions = spadl.loc[spadl.game_id == game].reset_index(drop=True)\n",
    "        labels.append(pd.concat([fn(actions=match_actions) for fn in yfns], axis=1))\n",
    "\n",
    "    labels = pd.concat(labels).reset_index(drop=True)\n",
    "\n",
    "    return labels"
   ]
  },
  {
   "cell_type": "code",
   "execution_count": 17,
   "metadata": {
    "collapsed": false
   },
   "outputs": [
    {
     "name": "stderr",
     "output_type": "stream",
     "text": [
      "100%|██████████| 380/380 [00:19<00:00, 19.34it/s]\n",
      "100%|██████████| 380/380 [00:19<00:00, 19.23it/s]\n"
     ]
    }
   ],
   "source": [
    "labels = {}\n",
    "for league in ['England', 'Spain']:\n",
    "    labels[league] = labels_transform(spadl[league])"
   ]
  },
  {
   "cell_type": "code",
   "execution_count": 18,
   "metadata": {},
   "outputs": [
    {
     "data": {
      "text/plain": [
       "{'England':         scores  concedes\n",
       " 0        False     False\n",
       " 1        False     False\n",
       " 2        False     False\n",
       " 3        False     False\n",
       " 4        False     False\n",
       " ...        ...       ...\n",
       " 482896   False     False\n",
       " 482897   False     False\n",
       " 482898   False     False\n",
       " 482899   False     False\n",
       " 482900   False     False\n",
       " \n",
       " [482901 rows x 2 columns],\n",
       " 'Spain':         scores  concedes\n",
       " 0        False     False\n",
       " 1        False     False\n",
       " 2        False     False\n",
       " 3        False     False\n",
       " 4        False     False\n",
       " ...        ...       ...\n",
       " 473889   False     False\n",
       " 473890   False     False\n",
       " 473891   False     False\n",
       " 473892   False     False\n",
       " 473893   False     False\n",
       " \n",
       " [473894 rows x 2 columns]}"
      ]
     },
     "execution_count": 18,
     "metadata": {},
     "output_type": "execute_result"
    }
   ],
   "source": [
    "labels"
   ]
  },
  {
   "cell_type": "code",
   "execution_count": 19,
   "metadata": {
    "collapsed": false
   },
   "outputs": [
    {
     "data": {
      "text/plain": [
       "7553"
      ]
     },
     "execution_count": 19,
     "metadata": {},
     "output_type": "execute_result"
    }
   ],
   "source": [
    "labels['England']['scores'].sum()"
   ]
  },
  {
   "cell_type": "code",
   "execution_count": 20,
   "metadata": {
    "collapsed": false
   },
   "outputs": [
    {
     "data": {
      "text/plain": [
       "2313"
      ]
     },
     "execution_count": 20,
     "metadata": {},
     "output_type": "execute_result"
    }
   ],
   "source": [
    "labels['England']['concedes'].sum()"
   ]
  },
  {
   "attachments": {},
   "cell_type": "markdown",
   "metadata": {},
   "source": [
    "Etapa que instância as labels a serem usadas no modelo."
   ]
  },
  {
   "attachments": {},
   "cell_type": "markdown",
   "metadata": {
    "collapsed": false
   },
   "source": [
    "2- Explique o por que da quantidade de labels positivos do tipo scores ser muito maior que do concedes. Como você acha que isso pode impactar o modelo final? \n",
    "\n",
    "Pois o modelo visa medir a contribuição do jogador na construção das jogadas do time, logo, a quantidade maior da label scores já é esperado dada a natureza da operação que VAEP mede."
   ]
  },
  {
   "attachments": {},
   "cell_type": "markdown",
   "metadata": {
    "collapsed": false
   },
   "source": [
    "### Training Model"
   ]
  },
  {
   "cell_type": "code",
   "execution_count": 21,
   "metadata": {
    "collapsed": false
   },
   "outputs": [],
   "source": [
    "import xgboost as xgb\n",
    "import sklearn.metrics as mt"
   ]
  },
  {
   "cell_type": "code",
   "execution_count": 22,
   "metadata": {
    "collapsed": false
   },
   "outputs": [],
   "source": [
    "def train_vaep(X_train, y_train, X_test, y_test):\n",
    "    models = {}\n",
    "    for m in ['scores', 'concedes']:\n",
    "        models[m] = xgb.XGBClassifier(random_state=0, n_estimators=50, max_depth=3)\n",
    "\n",
    "        print('training ' + m + ' model')\n",
    "        models[m].fit(X_train, y_train[m])\n",
    "\n",
    "        p = sum(y_train[m]) / len(y_train[m])\n",
    "        base = [p] * len(y_train[m])\n",
    "        y_train_pred = models[m].predict_proba(X_train)[:, 1]\n",
    "        train_brier = mt.brier_score_loss(y_train[m], y_train_pred) / mt.brier_score_loss(y_train[m], base)\n",
    "        print(m + ' Train NBS: ' + str(train_brier))\n",
    "        print()\n",
    "\n",
    "        p = sum(y_test[m]) / len(y_test[m])\n",
    "        base = [p] * len(y_test[m])\n",
    "        y_test_pred = models[m].predict_proba(X_test)[:, 1]\n",
    "        test_brier = mt.brier_score_loss(y_test[m], y_test_pred) / mt.brier_score_loss(y_test[m], base)\n",
    "        print(m + ' Test NBS: ' + str(test_brier))\n",
    "        print()\n",
    "\n",
    "        print('----------------------------------------')\n",
    "\n",
    "    return models"
   ]
  },
  {
   "cell_type": "code",
   "execution_count": 23,
   "metadata": {
    "collapsed": false
   },
   "outputs": [
    {
     "name": "stdout",
     "output_type": "stream",
     "text": [
      "training scores model\n",
      "scores Train NBS: 0.8452154331682665\n",
      "\n",
      "scores Test NBS: 0.8503669232527757\n",
      "\n",
      "----------------------------------------\n",
      "training concedes model\n",
      "concedes Train NBS: 0.9644632156409795\n",
      "\n",
      "concedes Test NBS: 0.9745272571693011\n",
      "\n",
      "----------------------------------------\n"
     ]
    }
   ],
   "source": [
    "models = train_vaep(X_train=features['England'], y_train=labels['England'], X_test=features['Spain'], y_test=labels['Spain'])"
   ]
  },
  {
   "attachments": {},
   "cell_type": "markdown",
   "metadata": {},
   "source": [
    "Objetivo desse header era treinar modelos que vão ser úteis para calcular o valor de ações nos próximos headers.\n"
   ]
  },
  {
   "attachments": {},
   "cell_type": "markdown",
   "metadata": {
    "collapsed": false
   },
   "source": [
    "3- Por que treinamos dois modelos diferentes? Por que a performance dos dois é diferente?\n"
   ]
  },
  {
   "attachments": {},
   "cell_type": "markdown",
   "metadata": {},
   "source": [
    "Você treina com os dados em uma liga e testa em outra pra ver o comportamento do modelo em uma liga a qual ele não foi mapeado. Isso pode ser muito útil pra evitar um pouco do vies."
   ]
  },
  {
   "attachments": {},
   "cell_type": "markdown",
   "metadata": {
    "collapsed": false
   },
   "source": [
    "### Predictions"
   ]
  },
  {
   "cell_type": "code",
   "execution_count": 24,
   "metadata": {
    "collapsed": false
   },
   "outputs": [],
   "source": [
    "def generate_predictions(features, models):\n",
    "    preds = {}\n",
    "    for m in ['scores', 'concedes']:\n",
    "        preds[m] = models[m].predict_proba(features)[:, 1]\n",
    "    preds = pd.DataFrame(preds)\n",
    "\n",
    "    return preds"
   ]
  },
  {
   "cell_type": "code",
   "execution_count": 39,
   "metadata": {
    "collapsed": false
   },
   "outputs": [
    {
     "data": {
      "text/plain": [
       "{'Spain':           scores  concedes\n",
       " 0       0.004560  0.000367\n",
       " 1       0.003573  0.000347\n",
       " 2       0.002895  0.000345\n",
       " 3       0.002162  0.000318\n",
       " 4       0.002424  0.001799\n",
       " ...          ...       ...\n",
       " 473889  0.033276  0.002812\n",
       " 473890  0.041886  0.002787\n",
       " 473891  0.017484  0.004722\n",
       " 473892  0.007541  0.012254\n",
       " 473893  0.005007  0.047561\n",
       " \n",
       " [473894 rows x 2 columns]}"
      ]
     },
     "execution_count": 39,
     "metadata": {},
     "output_type": "execute_result"
    }
   ],
   "source": [
    "preds = {}\n",
    "preds['Spain'] = generate_predictions(features=features['Spain'], models=models)\n",
    "preds"
   ]
  },
  {
   "attachments": {},
   "cell_type": "markdown",
   "metadata": {
    "collapsed": false
   },
   "source": [
    "### Action Values"
   ]
  },
  {
   "cell_type": "code",
   "execution_count": 26,
   "metadata": {
    "collapsed": false
   },
   "outputs": [],
   "source": [
    "import socceraction.vaep.formula as fm"
   ]
  },
  {
   "cell_type": "code",
   "execution_count": 27,
   "metadata": {
    "collapsed": false
   },
   "outputs": [],
   "source": [
    "def calculate_action_values(spadl, predictions):\n",
    "    action_values = fm.value(actions=spadl, Pscores=predictions['scores'], Pconcedes=predictions['concedes'])\n",
    "    action_values = pd.concat([\n",
    "        spadl[['player_id', 'original_event_id', 'action_id', 'game_id', 'start_x', 'start_y', 'end_x', 'end_y', 'type_name', 'result_name']],\n",
    "        predictions.rename(columns={'scores': 'Pscores', 'concedes': 'Pconcedes'}),\n",
    "        action_values\n",
    "    ], axis=1)\n",
    "\n",
    "    return action_values"
   ]
  },
  {
   "cell_type": "code",
   "execution_count": 52,
   "metadata": {
    "collapsed": false
   },
   "outputs": [
    {
     "data": {
      "text/html": [
       "<div>\n",
       "<style scoped>\n",
       "    .dataframe tbody tr th:only-of-type {\n",
       "        vertical-align: middle;\n",
       "    }\n",
       "\n",
       "    .dataframe tbody tr th {\n",
       "        vertical-align: top;\n",
       "    }\n",
       "\n",
       "    .dataframe thead th {\n",
       "        text-align: right;\n",
       "    }\n",
       "</style>\n",
       "<table border=\"1\" class=\"dataframe\">\n",
       "  <thead>\n",
       "    <tr style=\"text-align: right;\">\n",
       "      <th></th>\n",
       "      <th>player_id</th>\n",
       "      <th>original_event_id</th>\n",
       "      <th>action_id</th>\n",
       "      <th>game_id</th>\n",
       "      <th>start_x</th>\n",
       "      <th>start_y</th>\n",
       "      <th>end_x</th>\n",
       "      <th>end_y</th>\n",
       "      <th>type_name</th>\n",
       "      <th>result_name</th>\n",
       "      <th>Pscores</th>\n",
       "      <th>Pconcedes</th>\n",
       "      <th>offensive_value</th>\n",
       "      <th>defensive_value</th>\n",
       "      <th>vaep_value</th>\n",
       "    </tr>\n",
       "  </thead>\n",
       "  <tbody>\n",
       "    <tr>\n",
       "      <th>20</th>\n",
       "      <td>225089</td>\n",
       "      <td>180865315</td>\n",
       "      <td>20</td>\n",
       "      <td>2565548</td>\n",
       "      <td>97.65</td>\n",
       "      <td>44.88</td>\n",
       "      <td>105.00</td>\n",
       "      <td>34.00</td>\n",
       "      <td>shot</td>\n",
       "      <td>fail</td>\n",
       "      <td>0.031424</td>\n",
       "      <td>0.003259</td>\n",
       "      <td>-0.048751</td>\n",
       "      <td>-0.002252</td>\n",
       "      <td>-0.051003</td>\n",
       "    </tr>\n",
       "    <tr>\n",
       "      <th>22</th>\n",
       "      <td>255738</td>\n",
       "      <td>180864547</td>\n",
       "      <td>22</td>\n",
       "      <td>2565548</td>\n",
       "      <td>84.00</td>\n",
       "      <td>27.88</td>\n",
       "      <td>84.00</td>\n",
       "      <td>27.88</td>\n",
       "      <td>shot</td>\n",
       "      <td>fail</td>\n",
       "      <td>0.012689</td>\n",
       "      <td>0.002681</td>\n",
       "      <td>-0.012616</td>\n",
       "      <td>0.000804</td>\n",
       "      <td>-0.011812</td>\n",
       "    </tr>\n",
       "    <tr>\n",
       "      <th>93</th>\n",
       "      <td>37831</td>\n",
       "      <td>180864486</td>\n",
       "      <td>93</td>\n",
       "      <td>2565548</td>\n",
       "      <td>92.40</td>\n",
       "      <td>29.24</td>\n",
       "      <td>92.40</td>\n",
       "      <td>29.24</td>\n",
       "      <td>shot</td>\n",
       "      <td>fail</td>\n",
       "      <td>0.026429</td>\n",
       "      <td>0.003202</td>\n",
       "      <td>-0.033228</td>\n",
       "      <td>-0.001799</td>\n",
       "      <td>-0.035026</td>\n",
       "    </tr>\n",
       "    <tr>\n",
       "      <th>96</th>\n",
       "      <td>15214</td>\n",
       "      <td>180864491</td>\n",
       "      <td>96</td>\n",
       "      <td>2565548</td>\n",
       "      <td>91.35</td>\n",
       "      <td>23.12</td>\n",
       "      <td>105.00</td>\n",
       "      <td>27.20</td>\n",
       "      <td>shot</td>\n",
       "      <td>fail</td>\n",
       "      <td>0.025181</td>\n",
       "      <td>0.005027</td>\n",
       "      <td>-0.030991</td>\n",
       "      <td>-0.002125</td>\n",
       "      <td>-0.033117</td>\n",
       "    </tr>\n",
       "    <tr>\n",
       "      <th>178</th>\n",
       "      <td>225089</td>\n",
       "      <td>180864792</td>\n",
       "      <td>178</td>\n",
       "      <td>2565548</td>\n",
       "      <td>78.75</td>\n",
       "      <td>40.80</td>\n",
       "      <td>105.00</td>\n",
       "      <td>34.00</td>\n",
       "      <td>shot</td>\n",
       "      <td>fail</td>\n",
       "      <td>0.023212</td>\n",
       "      <td>0.004351</td>\n",
       "      <td>0.004753</td>\n",
       "      <td>-0.001096</td>\n",
       "      <td>0.003657</td>\n",
       "    </tr>\n",
       "    <tr>\n",
       "      <th>...</th>\n",
       "      <td>...</td>\n",
       "      <td>...</td>\n",
       "      <td>...</td>\n",
       "      <td>...</td>\n",
       "      <td>...</td>\n",
       "      <td>...</td>\n",
       "      <td>...</td>\n",
       "      <td>...</td>\n",
       "      <td>...</td>\n",
       "      <td>...</td>\n",
       "      <td>...</td>\n",
       "      <td>...</td>\n",
       "      <td>...</td>\n",
       "      <td>...</td>\n",
       "      <td>...</td>\n",
       "    </tr>\n",
       "    <tr>\n",
       "      <th>473619</th>\n",
       "      <td>3321</td>\n",
       "      <td>253302307</td>\n",
       "      <td>1212</td>\n",
       "      <td>2565927</td>\n",
       "      <td>92.40</td>\n",
       "      <td>20.40</td>\n",
       "      <td>105.00</td>\n",
       "      <td>34.00</td>\n",
       "      <td>shot</td>\n",
       "      <td>fail</td>\n",
       "      <td>0.053304</td>\n",
       "      <td>0.003787</td>\n",
       "      <td>-0.013934</td>\n",
       "      <td>-0.002090</td>\n",
       "      <td>-0.016024</td>\n",
       "    </tr>\n",
       "    <tr>\n",
       "      <th>473633</th>\n",
       "      <td>267134</td>\n",
       "      <td>253302272</td>\n",
       "      <td>1226</td>\n",
       "      <td>2565927</td>\n",
       "      <td>97.65</td>\n",
       "      <td>23.12</td>\n",
       "      <td>97.65</td>\n",
       "      <td>23.12</td>\n",
       "      <td>shot</td>\n",
       "      <td>fail</td>\n",
       "      <td>0.033856</td>\n",
       "      <td>0.006212</td>\n",
       "      <td>-0.049710</td>\n",
       "      <td>-0.002961</td>\n",
       "      <td>-0.052671</td>\n",
       "    </tr>\n",
       "    <tr>\n",
       "      <th>473673</th>\n",
       "      <td>267134</td>\n",
       "      <td>253302329</td>\n",
       "      <td>1266</td>\n",
       "      <td>2565927</td>\n",
       "      <td>94.50</td>\n",
       "      <td>46.24</td>\n",
       "      <td>94.50</td>\n",
       "      <td>46.24</td>\n",
       "      <td>shot</td>\n",
       "      <td>fail</td>\n",
       "      <td>0.027493</td>\n",
       "      <td>0.005142</td>\n",
       "      <td>-0.038734</td>\n",
       "      <td>-0.001858</td>\n",
       "      <td>-0.040592</td>\n",
       "    </tr>\n",
       "    <tr>\n",
       "      <th>473851</th>\n",
       "      <td>3321</td>\n",
       "      <td>253302642</td>\n",
       "      <td>1444</td>\n",
       "      <td>2565927</td>\n",
       "      <td>86.10</td>\n",
       "      <td>47.60</td>\n",
       "      <td>105.00</td>\n",
       "      <td>30.60</td>\n",
       "      <td>shot</td>\n",
       "      <td>fail</td>\n",
       "      <td>0.045398</td>\n",
       "      <td>0.006529</td>\n",
       "      <td>-0.009160</td>\n",
       "      <td>-0.003653</td>\n",
       "      <td>-0.012813</td>\n",
       "    </tr>\n",
       "    <tr>\n",
       "      <th>473878</th>\n",
       "      <td>4498</td>\n",
       "      <td>253302686</td>\n",
       "      <td>1471</td>\n",
       "      <td>2565927</td>\n",
       "      <td>92.40</td>\n",
       "      <td>38.76</td>\n",
       "      <td>105.00</td>\n",
       "      <td>40.80</td>\n",
       "      <td>shot</td>\n",
       "      <td>fail</td>\n",
       "      <td>0.024284</td>\n",
       "      <td>0.004465</td>\n",
       "      <td>-0.027501</td>\n",
       "      <td>-0.000102</td>\n",
       "      <td>-0.027602</td>\n",
       "    </tr>\n",
       "  </tbody>\n",
       "</table>\n",
       "<p>7095 rows × 15 columns</p>\n",
       "</div>"
      ],
      "text/plain": [
       "        player_id original_event_id  action_id  game_id  start_x  start_y  \\\n",
       "20         225089         180865315         20  2565548    97.65    44.88   \n",
       "22         255738         180864547         22  2565548    84.00    27.88   \n",
       "93          37831         180864486         93  2565548    92.40    29.24   \n",
       "96          15214         180864491         96  2565548    91.35    23.12   \n",
       "178        225089         180864792        178  2565548    78.75    40.80   \n",
       "...           ...               ...        ...      ...      ...      ...   \n",
       "473619       3321         253302307       1212  2565927    92.40    20.40   \n",
       "473633     267134         253302272       1226  2565927    97.65    23.12   \n",
       "473673     267134         253302329       1266  2565927    94.50    46.24   \n",
       "473851       3321         253302642       1444  2565927    86.10    47.60   \n",
       "473878       4498         253302686       1471  2565927    92.40    38.76   \n",
       "\n",
       "         end_x  end_y type_name result_name   Pscores  Pconcedes  \\\n",
       "20      105.00  34.00      shot        fail  0.031424   0.003259   \n",
       "22       84.00  27.88      shot        fail  0.012689   0.002681   \n",
       "93       92.40  29.24      shot        fail  0.026429   0.003202   \n",
       "96      105.00  27.20      shot        fail  0.025181   0.005027   \n",
       "178     105.00  34.00      shot        fail  0.023212   0.004351   \n",
       "...        ...    ...       ...         ...       ...        ...   \n",
       "473619  105.00  34.00      shot        fail  0.053304   0.003787   \n",
       "473633   97.65  23.12      shot        fail  0.033856   0.006212   \n",
       "473673   94.50  46.24      shot        fail  0.027493   0.005142   \n",
       "473851  105.00  30.60      shot        fail  0.045398   0.006529   \n",
       "473878  105.00  40.80      shot        fail  0.024284   0.004465   \n",
       "\n",
       "        offensive_value  defensive_value  vaep_value  \n",
       "20            -0.048751        -0.002252   -0.051003  \n",
       "22            -0.012616         0.000804   -0.011812  \n",
       "93            -0.033228        -0.001799   -0.035026  \n",
       "96            -0.030991        -0.002125   -0.033117  \n",
       "178            0.004753        -0.001096    0.003657  \n",
       "...                 ...              ...         ...  \n",
       "473619        -0.013934        -0.002090   -0.016024  \n",
       "473633        -0.049710        -0.002961   -0.052671  \n",
       "473673        -0.038734        -0.001858   -0.040592  \n",
       "473851        -0.009160        -0.003653   -0.012813  \n",
       "473878        -0.027501        -0.000102   -0.027602  \n",
       "\n",
       "[7095 rows x 15 columns]"
      ]
     },
     "execution_count": 52,
     "metadata": {},
     "output_type": "execute_result"
    }
   ],
   "source": [
    "action_values = {}\n",
    "action_values['Spain'] = calculate_action_values(spadl=spadl['Spain'], predictions=preds['Spain'])\n",
    "df = action_values['Spain']\n",
    "df['Pscores'] = df['Pscores'].astype(float)\n",
    "filt = df['Pscores'] > 0.95\n",
    "filt2 = (df['type_name'] == 'shot') & (df['result_name'] == 'fail')\n",
    "df[filt2]"
   ]
  },
  {
   "attachments": {},
   "cell_type": "markdown",
   "metadata": {
    "collapsed": false
   },
   "source": [
    "4- Explore as ações com Pscores >= 0.95. Por que elas tem um valor tão alto? As compare com ações do mesmo tipo e resultado opostado. Será que o modelo aprende que essa combinação de tipo de ação e resultado está diretamente relacionado à variável y que estamos tentando prever?\n",
    "\n",
    "5- Qual formula do paper corresponde à coluna 'offensive_value' do dataframe action_values? E a coluna 'defensive_value'?"
   ]
  },
  {
   "attachments": {},
   "cell_type": "markdown",
   "metadata": {},
   "source": [
    "4 - A maior parte das ações que possuem um action value > 0.95 são chutes com success = true, o que leva a gente imaginar que o modelo beneficia aqueles jogadores que dão o último toque que seria o chute e tem sucesso, idependentemente de posição do chute ou coisas desse tipo, já que os chutes com success = false tem um actionvalue imensamente menores."
   ]
  },
  {
   "attachments": {},
   "cell_type": "markdown",
   "metadata": {},
   "source": [
    "5\n",
    "\n",
    "Ofensive: Scores\n",
    "Defensive: concedes"
   ]
  },
  {
   "attachments": {},
   "cell_type": "markdown",
   "metadata": {},
   "source": [
    "O objetivo desse header era calcular, com base no modelo treinado, os valores de cada ação de cada jogador."
   ]
  },
  {
   "attachments": {},
   "cell_type": "markdown",
   "metadata": {
    "collapsed": false
   },
   "source": [
    "### Player Ratings"
   ]
  },
  {
   "cell_type": "code",
   "execution_count": null,
   "metadata": {
    "collapsed": false
   },
   "outputs": [],
   "source": [
    "def calculate_minutes_per_season(minutes_per_game):\n",
    "    minutes_per_season = minutes_per_game.groupby('player_id', as_index=False)['minutes_played'].sum()\n",
    "\n",
    "    return minutes_per_season"
   ]
  },
  {
   "cell_type": "code",
   "execution_count": null,
   "metadata": {
    "collapsed": false
   },
   "outputs": [],
   "source": [
    "minutes_per_season = {}\n",
    "minutes_per_season['Spain'] = calculate_minutes_per_season(minutes['Spain'])"
   ]
  },
  {
   "cell_type": "code",
   "execution_count": null,
   "metadata": {},
   "outputs": [
    {
     "data": {
      "text/plain": [
       "{'Spain':      player_id  minutes_played\n",
       " 0           33              93\n",
       " 1           99             103\n",
       " 2          151            1379\n",
       " 3          254            3230\n",
       " 4          786              83\n",
       " ..         ...             ...\n",
       " 552     519496              65\n",
       " 553     520163             124\n",
       " 554     545811              24\n",
       " 555     551398              63\n",
       " 556     568583              10\n",
       " \n",
       " [557 rows x 2 columns]}"
      ]
     },
     "execution_count": 31,
     "metadata": {},
     "output_type": "execute_result"
    }
   ],
   "source": [
    "minutes_per_season"
   ]
  },
  {
   "cell_type": "code",
   "execution_count": null,
   "metadata": {
    "collapsed": false
   },
   "outputs": [],
   "source": [
    "def calculate_player_ratings(action_values, minutes_per_season, players):\n",
    "    player_ratings = action_values.groupby(by='player_id', as_index=False).agg({'vaep_value': 'sum'}).rename(columns={'vaep_value': 'vaep_total'})\n",
    "    player_ratings = player_ratings.merge(minutes_per_season, on=['player_id'], how='left')\n",
    "    player_ratings['vaep_p90'] = player_ratings['vaep_total'] / player_ratings['minutes_played'] * 90\n",
    "    player_ratings = player_ratings[player_ratings['minutes_played'] >= 600].sort_values(by='vaep_p90', ascending=False).reset_index(drop=True)\n",
    "    player_ratings = player_ratings.merge(players, on=['player_id'], how='left')\n",
    "    player_ratings = player_ratings[['player_id', 'player_name', 'minutes_played', 'vaep_total', 'vaep_p90']]\n",
    "\n",
    "    return player_ratings"
   ]
  },
  {
   "cell_type": "code",
   "execution_count": null,
   "metadata": {
    "collapsed": false
   },
   "outputs": [],
   "source": [
    "player_ratings = {}\n",
    "player_ratings['Spain'] = calculate_player_ratings(action_values=action_values['Spain'], minutes_per_season=minutes_per_season['Spain'], players=players)"
   ]
  },
  {
   "cell_type": "code",
   "execution_count": null,
   "metadata": {},
   "outputs": [
    {
     "data": {
      "text/plain": [
       "{'Spain':      player_id                          player_name  minutes_played  \\\n",
       " 0         3359       Lionel Andrés Messi Cuccittini          3108.0   \n",
       " 1         8278                    Gareth Frank Bale          1850.0   \n",
       " 2         3802            Philippe Coutinho Correia          1329.0   \n",
       " 3         3322  Cristiano Ronaldo dos Santos Aveiro          2355.0   \n",
       " 4         3682                    Antoine Griezmann          2591.0   \n",
       " ..         ...                                  ...             ...   \n",
       " 386     105616                     Brown Ideye Aide           764.0   \n",
       " 387       5911             Sandro  Ramírez Castillo           747.0   \n",
       " 388     228902                     Jonathan Calleri          3210.0   \n",
       " 389       3875                 Borja González Tomás          1029.0   \n",
       " 390       6914             Alexander Alegría Moreno           647.0   \n",
       " \n",
       "      vaep_total  vaep_p90  \n",
       " 0     35.891376  1.039326  \n",
       " 1     14.323647  0.696826  \n",
       " 2     10.036554  0.679676  \n",
       " 3     17.279104  0.660348  \n",
       " 4     18.149570  0.630437  \n",
       " ..          ...       ...  \n",
       " 386    0.059302  0.006986  \n",
       " 387   -0.063523 -0.007653  \n",
       " 388   -0.275297 -0.007719  \n",
       " 389   -0.095660 -0.008367  \n",
       " 390   -0.342903 -0.047699  \n",
       " \n",
       " [391 rows x 5 columns]}"
      ]
     },
     "execution_count": 34,
     "metadata": {},
     "output_type": "execute_result"
    }
   ],
   "source": [
    "player_ratings"
   ]
  },
  {
   "attachments": {},
   "cell_type": "markdown",
   "metadata": {},
   "source": [
    "Objetivo do header era fazer o groupby das action values com base no modelo vaep para cada jogador, e rankear esses jogadores, além de levar em conta action_values / minutos jogados"
   ]
  },
  {
   "attachments": {},
   "cell_type": "markdown",
   "metadata": {
    "collapsed": false
   },
   "source": [
    "6- Acha que o Top 5 da lista é bem representativo? Compare esse ranqueamento do VAEP com o do xT da Atividade 4. Qual você acha que é mais representativo?"
   ]
  },
  {
   "attachments": {},
   "cell_type": "markdown",
   "metadata": {},
   "source": [
    "Acredito que qualquer modelo tenha o ponto central do que ele quer medir. Em contraponto, existem jogadores que são outliers para qualquer caso quando se usa caracteristicas que esses jogadores possuem, independente do que se quer medir. Ou seja, como esses modelos não querem medir necessariamente ações defensivas, tem jogadores tal como Lionel Messi que é o TOP1 da lista, que sempre vão se destacar pois são jogadores fora da curva. Logo, acho que o top5 é bem representativo, é de se esperar que mesmo ranqueamento do VAEP quanto do xT vão mapear esses outliers que é por exemplo Lionel Messi como jogador de futebol. Ademais, é inegável que o modelo VAEP e o xT, apesar de similaridades em alguns pontos, visam medir parâmetros diferentes de ações jogadores. No xT, era muito mais comum aparição de defensores, tal como apareceu Marcelo em segundo lugar na atividade4, ou seja, são modelos diferentes que entregam resultados diferentes, pois possuem premissas e objetivos diferentes apesar a similaridade de algumas características.\n"
   ]
  },
  {
   "attachments": {},
   "cell_type": "markdown",
   "metadata": {},
   "source": [
    "Não entendi muito bem a parte do diagrama, por isso vou tentar resumir:\n",
    "\n",
    "Extração dos dados > tratamento dos dados > transformações para o padrão SPADL> escolha e criação das features > instanciação das labels > treino dos modelos> uso do modelo para avaliar o valor das ações > agregação das ações por jogador > divisão pela quantidade de minutos jogados do jogador."
   ]
  }
 ],
 "metadata": {
  "kernelspec": {
   "display_name": "Python 3",
   "language": "python",
   "name": "python3"
  },
  "language_info": {
   "codemirror_mode": {
    "name": "ipython",
    "version": 3
   },
   "file_extension": ".py",
   "mimetype": "text/x-python",
   "name": "python",
   "nbconvert_exporter": "python",
   "pygments_lexer": "ipython3",
   "version": "3.9.7"
  }
 },
 "nbformat": 4,
 "nbformat_minor": 0
}
